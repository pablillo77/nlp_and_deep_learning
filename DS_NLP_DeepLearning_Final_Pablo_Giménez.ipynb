{
  "nbformat": 4,
  "nbformat_minor": 0,
  "metadata": {
    "colab": {
      "provenance": [],
      "authorship_tag": "ABX9TyNpYWjipDL4mCffIkrCMlJM",
      "include_colab_link": true
    },
    "kernelspec": {
      "name": "python3",
      "display_name": "Python 3"
    },
    "language_info": {
      "name": "python"
    }
  },
  "cells": [
    {
      "cell_type": "markdown",
      "metadata": {
        "id": "view-in-github",
        "colab_type": "text"
      },
      "source": [
        "<a href=\"https://colab.research.google.com/github/pablillo77/nlp_and_deep_learning/blob/main/DS_NLP_DeepLearning_Final_Pablo_Gim%C3%A9nez.ipynb\" target=\"_parent\"><img src=\"https://colab.research.google.com/assets/colab-badge.svg\" alt=\"Open In Colab\"/></a>"
      ]
    },
    {
      "cell_type": "markdown",
      "source": [
        "<a id=\"1\"></a>\n",
        "# <div style=\"padding:20px;color:white;margin:0;font-size:35px;font-family:Verdana;text-align:center;display:fill;border-radius:5px;background-color:#254E58;overflow:hidden\"><b> 🎬 Introduction 🎬</b></div>"
      ],
      "metadata": {
        "id": "_6yErDULFg7I"
      }
    },
    {
      "cell_type": "markdown",
      "source": [
        "<a id=\"1\"></a>\n",
        "# <div style=\"padding:20px;color:white;margin:0;font-size:35px;font-family:Verdana;text-align:center;display:fill;border-radius:5px;background-color:#254E58;overflow:hidden\"><b>🧹 Preliminary data cleaning 🧹</b></div>"
      ],
      "metadata": {
        "id": "bjoYT90296mV"
      }
    },
    {
      "cell_type": "markdown",
      "source": [
        "## Presentation ##\n",
        "The present project is based on a Kaggle dataset about BBC articles. The objective is to train and produce an algorithm for accurate news classification into five categories, that could yield commericial applications, customizing user engagement and giving insights for targeted audiences.\n",
        "\n",
        "## Audience ##\n",
        "\n",
        "This includes both readers seeking relevant content and businesses interested in market research, who could use categorized news for industry insights.\n",
        "\n",
        "## Comercial Context ##\n",
        "\n",
        "Personalized content delivery could improve user satisfaction and time spent on the platform. The classified data could also be valuable to marketing advertisers for audience targeting.\n",
        "\n",
        "## Key Hypotheses and Questions ##\n",
        "\n",
        "- Effective categorization and personalized news recommendations enhance reader engagement and retention.\n",
        "- How the categories are distributed?\n",
        "- Can we predict categories in new content?\n",
        "\n",
        "## Objectives ##\n",
        "\n",
        "- Produce an accurate classification model using LSTM and or RNN.\n",
        "- Acquire category-based insights.\n",
        "- Set the bases for future work on trending category predictions.\n",
        "\n",
        "\n",
        "\n"
      ],
      "metadata": {
        "id": "8Zt4ar_WG7pa"
      }
    },
    {
      "cell_type": "markdown",
      "source": [
        " </b></div>\n",
        "# <div style=\"padding:20px;color:white;margin:0;font-size:35px;font-family:Verdana;text-align:center;display:fill;border-radius:5px;background-color:#254E58;overflow:hidden\"><b>⏳Libraries imports and data upload⏳\n",
        " </b></div>"
      ],
      "metadata": {
        "id": "24i0u85_Oso3"
      }
    },
    {
      "cell_type": "code",
      "source": [
        "#import libraries\n",
        "\n",
        "import pandas as pd\n",
        "import matplotlib.pyplot as plt\n",
        "import numpy as np\n",
        "import nltk\n",
        "import seaborn as sns\n",
        "import re\n",
        "import string\n",
        "import random\n",
        "import tensorflow as tf\n",
        "from tensorflow.keras.preprocessing.text import Tokenizer\n",
        "from tensorflow.keras.preprocessing.sequence import pad_sequences\n",
        "from sklearn.feature_extraction.text import CountVectorizer\n",
        "from tensorflow.keras.models import Sequential\n",
        "from tensorflow.keras.layers import Embedding, LSTM, Dense, Dropout\n",
        "from tensorflow.keras.callbacks import EarlyStopping, ReduceLROnPlateau\n",
        "from collections import Counter\n",
        "from wordcloud import WordCloud\n",
        "from sklearn.metrics import accuracy_score, precision_score, recall_score, f1_score, roc_auc_score, confusion_matrix\n",
        "\n",
        "# Download necessary NLTK data\n",
        "\n",
        "nltk.download('punkt')\n",
        "nltk.download('stopwords')"
      ],
      "metadata": {
        "colab": {
          "base_uri": "https://localhost:8080/"
        },
        "id": "P5_-rKOQGr6b",
        "outputId": "87c41bb7-4d11-4f4f-df89-2b9e80e3505e"
      },
      "execution_count": null,
      "outputs": [
        {
          "output_type": "stream",
          "name": "stderr",
          "text": [
            "[nltk_data] Downloading package punkt to /root/nltk_data...\n",
            "[nltk_data]   Package punkt is already up-to-date!\n",
            "[nltk_data] Downloading package stopwords to /root/nltk_data...\n",
            "[nltk_data]   Package stopwords is already up-to-date!\n"
          ]
        },
        {
          "output_type": "execute_result",
          "data": {
            "text/plain": [
              "True"
            ]
          },
          "metadata": {},
          "execution_count": 16
        }
      ]
    },
    {
      "cell_type": "code",
      "source": [
        "#dataset load from github\n",
        "\n",
        "#https://www.kaggle.com/code/dnkumars/lstm-model-bbc-articles-dataset/notebook?select=bbc_text_cls.csv\n",
        "url = 'https://raw.githubusercontent.com/pablillo77/nlp_and_deep_learning/refs/heads/main/bbc_text_cls.csv'\n",
        "df = pd.read_csv(url)\n",
        "df.shape"
      ],
      "metadata": {
        "colab": {
          "base_uri": "https://localhost:8080/"
        },
        "id": "gGo5iUyTEIv-",
        "outputId": "0d88969e-3c4b-46f1-f009-f25372f55395"
      },
      "execution_count": null,
      "outputs": [
        {
          "output_type": "execute_result",
          "data": {
            "text/plain": [
              "(2225, 2)"
            ]
          },
          "metadata": {},
          "execution_count": 17
        }
      ]
    },
    {
      "cell_type": "code",
      "source": [
        "pd.set_option('display.max_colwidth',None)\n",
        "df.sample(2)"
      ],
      "metadata": {
        "colab": {
          "base_uri": "https://localhost:8080/",
          "height": 338
        },
        "id": "9Nszth8wQuWn",
        "outputId": "ace27f2b-b8de-4585-84f6-b1d2a4ba4f99"
      },
      "execution_count": null,
      "outputs": [
        {
          "output_type": "execute_result",
          "data": {
            "text/plain": [
              "                                                                                                                                                                                                                                                                                                                                                                                                                                                                                                                                                                                                                                                                                                                                                                                                                                                                                                                                                                                                                                                                                                                                                                                                                                                                                                                                                                                                                                                                                                                                                                                                                                                                                                                                                                                                                                                                                                                                                                                                                                                                                                                                                                                                                                                                                                                                                                                                                                                                                                                                                                                                                                                                                                                                                                                                                                                                                                                                                                                                                                                                                                                                                                                                                                                                                                                                                                                                                                           text  \\\n",
              "1072                                                                                                                                                                                                                                                                                                                                                                                                                          Plaid MP's cottage arson claim\\n\\nA Plaid Cymru MP believes UK security services were involved in some arson attacks blamed on Welsh extremists.\\n\\nIt is 25 years since the start of 12 years of fire-bombings, attributed to a shadowy group known as Meibion Glyndwr. Plaid Cymru's Elfyn Llwyd has suggested the security services could have been involved, with the intention of discrediting the nationalist vote. Ex-Welsh Office Minister Lord Roberts of Conwy denied security services were involved. In March this year, North Wales Police reopened the case, saying materials kept during their investigations would be examined to find whether it would yield DNA evidence.\\n\\nMeibion Glyndwr - which means \"sons of Glyndwr\" - began burning property in December 1979 in protest at homes in rural Wales being sold as holiday cottages to people from England. The group was linked to most of the 220 or so fire-bombing incidents stretching from the Llyn Peninsula to Pembrokeshire. The campaign continued until the early 1990s. Police were accused in some quarters of targeting anyone who was a nationalist. Although one man, Sion Aubrey Roberts, was convicted in 1993 of sending letter bombs in the post, the arson cases remain unsolved.\\n\\nAs a solicitor, Elfyn Llwyd represented Welsh singer Bryn F&#244;n when he was arrested on suspicion of being involved in the arson campaign. F&#244;n was released without charge . But now, as MP for Merionnydd Nant Conwy and Plaid Cymru's Parliamentary Leader, Mr Llwyd has argued that some of the terror attacks may have had the involvement of the security services and not Meibion Glyndwr. He believes that elements of the British security services may have carried out renegade actions in order to discredit Plaid Cymru and the nationalist vote ahead of elections. The claim is made in an interview for BBC Wales' Maniffesto programme to be shown on S4C on Sunday.\\n\\nMr Llwyd said that the sophistication of many of the devices used in the attacks compared to the crude nature of many others, suggests a degree of professionalism which could only have come from individuals who knew exactly what they were doing. He said: \"What I'm saying is that the role that they took wasn't the appropriate one, i.e. like an\\n\\nagent provocateur\\n\\nand perhaps interfering and creating a situation where it looked like it was the nationalists that were responsible.\" The programme also heard from Lord Roberts of Conwy, who was a Welsh Office minister at the time. He denied that the security services played any improper role. Mr Llwyd's theory has also been questioned by Plaid Cymru's former President, Dafydd Wigley. He accepted that the fires damaged Plaid Cymru's public image but believed that the security services had their hands full at the time with the IRA and animal rights activists.\\n\\n\\n - Maniffesto can be seen on S4C on Sunday, 12 December, at 1200 GMT.   \n",
              "1991  A decade of good website design\\n\\nThe web looks very different today than it did 10 years ago.\\n\\nBack in 1994, Yahoo had only just launched, most websites were text-based and Amazon, Google and eBay had yet to appear. But, says usability guru Dr Jakob Nielsen, some things have stayed constant in that decade, namely the principles of what makes a site easy to use. Dr Nielsen has looked back at a decade of work on usability and considered whether the 34 core guidelines drawn up back then are relevant to the web of today. \"Roughly 80% of the things we found 10 years ago are still an issue today,\" he said. \"Some have gone away because users have changed and 10% have changed because technology has changed.\"\\n\\nSome design crimes, such as splash screens that get between a user and the site they are trying to visit, and web designers indulging their artistic urges have almost disappeared, said Dr Nielsen.\\n\\n\"But there's great stability on usability concerns,\" he told the BBC News website. Dr Nielsen said the basic principles of usability, centring around ease of use and clear thinking about a site's total design, were as important as ever. \"It's necessary to be aware of these things as issues because they remain as such,\" he said. They are still important because the net has not changed as much as people thought it would. \"A lot of people thought that design and usability was only a temporary problem because broadband was taking off,\" he said. \"But there are a very small number of cases where usability issues go away because you have broadband.\"\\n\\nDr Nielsen said the success of sites such as Google, Amazon, eBay and Yahoo showed that close attention to design and user needs was important. \"Those four sites are extremely profitable and extremely successful,\" said Dr Nielsen, adding that they have largely defined commercial success on the net.\\n\\n\"All are based on user empowerment and make it easy for people to do things on the internet,\" he said. \"They are making simple but powerful tools available to the user. \"None of them have a fancy or glamorous look,\" he added, declaring himself surprised that these sites have not been more widely copied. In the future, Dr Nielsen believes that search engines will play an even bigger part in helping people get to grips with the huge amount of information online. \"They are becoming like the operating system to the internet,\" he said. But, he said, the fact that they are useful now does not meant that they could not do better. Currently, he said, search sites did not do a very good job of describing the information that they return in response to queries. Often people had to look at a website just to judge whether it was useful or not. Tools that watch the behaviour of people on websites to see what they actually find useful could also help refine results. Research by Dr Nielsen shows that people are getting more sophisticated in their use of search engines. The latest statistics on how many words people use on search engines shows that, on average, they use 2.2 terms. In 1994 only 1.3 words were used. \"I think it's amazing that we have seen a doubling in a 10-year period of those search terms,\" said Dr Nielsen.\\n\\nYou can hear more from Jakob Nielsen and web design on the BBC World Service programme, Go Digital   \n",
              "\n",
              "        labels  \n",
              "1072  politics  \n",
              "1991      tech  "
            ],
            "text/html": [
              "\n",
              "  <div id=\"df-49cbe98f-1429-4fb3-a387-a3bec0af5892\" class=\"colab-df-container\">\n",
              "    <div>\n",
              "<style scoped>\n",
              "    .dataframe tbody tr th:only-of-type {\n",
              "        vertical-align: middle;\n",
              "    }\n",
              "\n",
              "    .dataframe tbody tr th {\n",
              "        vertical-align: top;\n",
              "    }\n",
              "\n",
              "    .dataframe thead th {\n",
              "        text-align: right;\n",
              "    }\n",
              "</style>\n",
              "<table border=\"1\" class=\"dataframe\">\n",
              "  <thead>\n",
              "    <tr style=\"text-align: right;\">\n",
              "      <th></th>\n",
              "      <th>text</th>\n",
              "      <th>labels</th>\n",
              "    </tr>\n",
              "  </thead>\n",
              "  <tbody>\n",
              "    <tr>\n",
              "      <th>1072</th>\n",
              "      <td>Plaid MP's cottage arson claim\\n\\nA Plaid Cymru MP believes UK security services were involved in some arson attacks blamed on Welsh extremists.\\n\\nIt is 25 years since the start of 12 years of fire-bombings, attributed to a shadowy group known as Meibion Glyndwr. Plaid Cymru's Elfyn Llwyd has suggested the security services could have been involved, with the intention of discrediting the nationalist vote. Ex-Welsh Office Minister Lord Roberts of Conwy denied security services were involved. In March this year, North Wales Police reopened the case, saying materials kept during their investigations would be examined to find whether it would yield DNA evidence.\\n\\nMeibion Glyndwr - which means \"sons of Glyndwr\" - began burning property in December 1979 in protest at homes in rural Wales being sold as holiday cottages to people from England. The group was linked to most of the 220 or so fire-bombing incidents stretching from the Llyn Peninsula to Pembrokeshire. The campaign continued until the early 1990s. Police were accused in some quarters of targeting anyone who was a nationalist. Although one man, Sion Aubrey Roberts, was convicted in 1993 of sending letter bombs in the post, the arson cases remain unsolved.\\n\\nAs a solicitor, Elfyn Llwyd represented Welsh singer Bryn F&amp;#244;n when he was arrested on suspicion of being involved in the arson campaign. F&amp;#244;n was released without charge . But now, as MP for Merionnydd Nant Conwy and Plaid Cymru's Parliamentary Leader, Mr Llwyd has argued that some of the terror attacks may have had the involvement of the security services and not Meibion Glyndwr. He believes that elements of the British security services may have carried out renegade actions in order to discredit Plaid Cymru and the nationalist vote ahead of elections. The claim is made in an interview for BBC Wales' Maniffesto programme to be shown on S4C on Sunday.\\n\\nMr Llwyd said that the sophistication of many of the devices used in the attacks compared to the crude nature of many others, suggests a degree of professionalism which could only have come from individuals who knew exactly what they were doing. He said: \"What I'm saying is that the role that they took wasn't the appropriate one, i.e. like an\\n\\nagent provocateur\\n\\nand perhaps interfering and creating a situation where it looked like it was the nationalists that were responsible.\" The programme also heard from Lord Roberts of Conwy, who was a Welsh Office minister at the time. He denied that the security services played any improper role. Mr Llwyd's theory has also been questioned by Plaid Cymru's former President, Dafydd Wigley. He accepted that the fires damaged Plaid Cymru's public image but believed that the security services had their hands full at the time with the IRA and animal rights activists.\\n\\n\\n - Maniffesto can be seen on S4C on Sunday, 12 December, at 1200 GMT.</td>\n",
              "      <td>politics</td>\n",
              "    </tr>\n",
              "    <tr>\n",
              "      <th>1991</th>\n",
              "      <td>A decade of good website design\\n\\nThe web looks very different today than it did 10 years ago.\\n\\nBack in 1994, Yahoo had only just launched, most websites were text-based and Amazon, Google and eBay had yet to appear. But, says usability guru Dr Jakob Nielsen, some things have stayed constant in that decade, namely the principles of what makes a site easy to use. Dr Nielsen has looked back at a decade of work on usability and considered whether the 34 core guidelines drawn up back then are relevant to the web of today. \"Roughly 80% of the things we found 10 years ago are still an issue today,\" he said. \"Some have gone away because users have changed and 10% have changed because technology has changed.\"\\n\\nSome design crimes, such as splash screens that get between a user and the site they are trying to visit, and web designers indulging their artistic urges have almost disappeared, said Dr Nielsen.\\n\\n\"But there's great stability on usability concerns,\" he told the BBC News website. Dr Nielsen said the basic principles of usability, centring around ease of use and clear thinking about a site's total design, were as important as ever. \"It's necessary to be aware of these things as issues because they remain as such,\" he said. They are still important because the net has not changed as much as people thought it would. \"A lot of people thought that design and usability was only a temporary problem because broadband was taking off,\" he said. \"But there are a very small number of cases where usability issues go away because you have broadband.\"\\n\\nDr Nielsen said the success of sites such as Google, Amazon, eBay and Yahoo showed that close attention to design and user needs was important. \"Those four sites are extremely profitable and extremely successful,\" said Dr Nielsen, adding that they have largely defined commercial success on the net.\\n\\n\"All are based on user empowerment and make it easy for people to do things on the internet,\" he said. \"They are making simple but powerful tools available to the user. \"None of them have a fancy or glamorous look,\" he added, declaring himself surprised that these sites have not been more widely copied. In the future, Dr Nielsen believes that search engines will play an even bigger part in helping people get to grips with the huge amount of information online. \"They are becoming like the operating system to the internet,\" he said. But, he said, the fact that they are useful now does not meant that they could not do better. Currently, he said, search sites did not do a very good job of describing the information that they return in response to queries. Often people had to look at a website just to judge whether it was useful or not. Tools that watch the behaviour of people on websites to see what they actually find useful could also help refine results. Research by Dr Nielsen shows that people are getting more sophisticated in their use of search engines. The latest statistics on how many words people use on search engines shows that, on average, they use 2.2 terms. In 1994 only 1.3 words were used. \"I think it's amazing that we have seen a doubling in a 10-year period of those search terms,\" said Dr Nielsen.\\n\\nYou can hear more from Jakob Nielsen and web design on the BBC World Service programme, Go Digital</td>\n",
              "      <td>tech</td>\n",
              "    </tr>\n",
              "  </tbody>\n",
              "</table>\n",
              "</div>\n",
              "    <div class=\"colab-df-buttons\">\n",
              "\n",
              "  <div class=\"colab-df-container\">\n",
              "    <button class=\"colab-df-convert\" onclick=\"convertToInteractive('df-49cbe98f-1429-4fb3-a387-a3bec0af5892')\"\n",
              "            title=\"Convert this dataframe to an interactive table.\"\n",
              "            style=\"display:none;\">\n",
              "\n",
              "  <svg xmlns=\"http://www.w3.org/2000/svg\" height=\"24px\" viewBox=\"0 -960 960 960\">\n",
              "    <path d=\"M120-120v-720h720v720H120Zm60-500h600v-160H180v160Zm220 220h160v-160H400v160Zm0 220h160v-160H400v160ZM180-400h160v-160H180v160Zm440 0h160v-160H620v160ZM180-180h160v-160H180v160Zm440 0h160v-160H620v160Z\"/>\n",
              "  </svg>\n",
              "    </button>\n",
              "\n",
              "  <style>\n",
              "    .colab-df-container {\n",
              "      display:flex;\n",
              "      gap: 12px;\n",
              "    }\n",
              "\n",
              "    .colab-df-convert {\n",
              "      background-color: #E8F0FE;\n",
              "      border: none;\n",
              "      border-radius: 50%;\n",
              "      cursor: pointer;\n",
              "      display: none;\n",
              "      fill: #1967D2;\n",
              "      height: 32px;\n",
              "      padding: 0 0 0 0;\n",
              "      width: 32px;\n",
              "    }\n",
              "\n",
              "    .colab-df-convert:hover {\n",
              "      background-color: #E2EBFA;\n",
              "      box-shadow: 0px 1px 2px rgba(60, 64, 67, 0.3), 0px 1px 3px 1px rgba(60, 64, 67, 0.15);\n",
              "      fill: #174EA6;\n",
              "    }\n",
              "\n",
              "    .colab-df-buttons div {\n",
              "      margin-bottom: 4px;\n",
              "    }\n",
              "\n",
              "    [theme=dark] .colab-df-convert {\n",
              "      background-color: #3B4455;\n",
              "      fill: #D2E3FC;\n",
              "    }\n",
              "\n",
              "    [theme=dark] .colab-df-convert:hover {\n",
              "      background-color: #434B5C;\n",
              "      box-shadow: 0px 1px 3px 1px rgba(0, 0, 0, 0.15);\n",
              "      filter: drop-shadow(0px 1px 2px rgba(0, 0, 0, 0.3));\n",
              "      fill: #FFFFFF;\n",
              "    }\n",
              "  </style>\n",
              "\n",
              "    <script>\n",
              "      const buttonEl =\n",
              "        document.querySelector('#df-49cbe98f-1429-4fb3-a387-a3bec0af5892 button.colab-df-convert');\n",
              "      buttonEl.style.display =\n",
              "        google.colab.kernel.accessAllowed ? 'block' : 'none';\n",
              "\n",
              "      async function convertToInteractive(key) {\n",
              "        const element = document.querySelector('#df-49cbe98f-1429-4fb3-a387-a3bec0af5892');\n",
              "        const dataTable =\n",
              "          await google.colab.kernel.invokeFunction('convertToInteractive',\n",
              "                                                    [key], {});\n",
              "        if (!dataTable) return;\n",
              "\n",
              "        const docLinkHtml = 'Like what you see? Visit the ' +\n",
              "          '<a target=\"_blank\" href=https://colab.research.google.com/notebooks/data_table.ipynb>data table notebook</a>'\n",
              "          + ' to learn more about interactive tables.';\n",
              "        element.innerHTML = '';\n",
              "        dataTable['output_type'] = 'display_data';\n",
              "        await google.colab.output.renderOutput(dataTable, element);\n",
              "        const docLink = document.createElement('div');\n",
              "        docLink.innerHTML = docLinkHtml;\n",
              "        element.appendChild(docLink);\n",
              "      }\n",
              "    </script>\n",
              "  </div>\n",
              "\n",
              "\n",
              "<div id=\"df-547c1c44-5f05-4a99-a8fa-a2be28a114e9\">\n",
              "  <button class=\"colab-df-quickchart\" onclick=\"quickchart('df-547c1c44-5f05-4a99-a8fa-a2be28a114e9')\"\n",
              "            title=\"Suggest charts\"\n",
              "            style=\"display:none;\">\n",
              "\n",
              "<svg xmlns=\"http://www.w3.org/2000/svg\" height=\"24px\"viewBox=\"0 0 24 24\"\n",
              "     width=\"24px\">\n",
              "    <g>\n",
              "        <path d=\"M19 3H5c-1.1 0-2 .9-2 2v14c0 1.1.9 2 2 2h14c1.1 0 2-.9 2-2V5c0-1.1-.9-2-2-2zM9 17H7v-7h2v7zm4 0h-2V7h2v10zm4 0h-2v-4h2v4z\"/>\n",
              "    </g>\n",
              "</svg>\n",
              "  </button>\n",
              "\n",
              "<style>\n",
              "  .colab-df-quickchart {\n",
              "      --bg-color: #E8F0FE;\n",
              "      --fill-color: #1967D2;\n",
              "      --hover-bg-color: #E2EBFA;\n",
              "      --hover-fill-color: #174EA6;\n",
              "      --disabled-fill-color: #AAA;\n",
              "      --disabled-bg-color: #DDD;\n",
              "  }\n",
              "\n",
              "  [theme=dark] .colab-df-quickchart {\n",
              "      --bg-color: #3B4455;\n",
              "      --fill-color: #D2E3FC;\n",
              "      --hover-bg-color: #434B5C;\n",
              "      --hover-fill-color: #FFFFFF;\n",
              "      --disabled-bg-color: #3B4455;\n",
              "      --disabled-fill-color: #666;\n",
              "  }\n",
              "\n",
              "  .colab-df-quickchart {\n",
              "    background-color: var(--bg-color);\n",
              "    border: none;\n",
              "    border-radius: 50%;\n",
              "    cursor: pointer;\n",
              "    display: none;\n",
              "    fill: var(--fill-color);\n",
              "    height: 32px;\n",
              "    padding: 0;\n",
              "    width: 32px;\n",
              "  }\n",
              "\n",
              "  .colab-df-quickchart:hover {\n",
              "    background-color: var(--hover-bg-color);\n",
              "    box-shadow: 0 1px 2px rgba(60, 64, 67, 0.3), 0 1px 3px 1px rgba(60, 64, 67, 0.15);\n",
              "    fill: var(--button-hover-fill-color);\n",
              "  }\n",
              "\n",
              "  .colab-df-quickchart-complete:disabled,\n",
              "  .colab-df-quickchart-complete:disabled:hover {\n",
              "    background-color: var(--disabled-bg-color);\n",
              "    fill: var(--disabled-fill-color);\n",
              "    box-shadow: none;\n",
              "  }\n",
              "\n",
              "  .colab-df-spinner {\n",
              "    border: 2px solid var(--fill-color);\n",
              "    border-color: transparent;\n",
              "    border-bottom-color: var(--fill-color);\n",
              "    animation:\n",
              "      spin 1s steps(1) infinite;\n",
              "  }\n",
              "\n",
              "  @keyframes spin {\n",
              "    0% {\n",
              "      border-color: transparent;\n",
              "      border-bottom-color: var(--fill-color);\n",
              "      border-left-color: var(--fill-color);\n",
              "    }\n",
              "    20% {\n",
              "      border-color: transparent;\n",
              "      border-left-color: var(--fill-color);\n",
              "      border-top-color: var(--fill-color);\n",
              "    }\n",
              "    30% {\n",
              "      border-color: transparent;\n",
              "      border-left-color: var(--fill-color);\n",
              "      border-top-color: var(--fill-color);\n",
              "      border-right-color: var(--fill-color);\n",
              "    }\n",
              "    40% {\n",
              "      border-color: transparent;\n",
              "      border-right-color: var(--fill-color);\n",
              "      border-top-color: var(--fill-color);\n",
              "    }\n",
              "    60% {\n",
              "      border-color: transparent;\n",
              "      border-right-color: var(--fill-color);\n",
              "    }\n",
              "    80% {\n",
              "      border-color: transparent;\n",
              "      border-right-color: var(--fill-color);\n",
              "      border-bottom-color: var(--fill-color);\n",
              "    }\n",
              "    90% {\n",
              "      border-color: transparent;\n",
              "      border-bottom-color: var(--fill-color);\n",
              "    }\n",
              "  }\n",
              "</style>\n",
              "\n",
              "  <script>\n",
              "    async function quickchart(key) {\n",
              "      const quickchartButtonEl =\n",
              "        document.querySelector('#' + key + ' button');\n",
              "      quickchartButtonEl.disabled = true;  // To prevent multiple clicks.\n",
              "      quickchartButtonEl.classList.add('colab-df-spinner');\n",
              "      try {\n",
              "        const charts = await google.colab.kernel.invokeFunction(\n",
              "            'suggestCharts', [key], {});\n",
              "      } catch (error) {\n",
              "        console.error('Error during call to suggestCharts:', error);\n",
              "      }\n",
              "      quickchartButtonEl.classList.remove('colab-df-spinner');\n",
              "      quickchartButtonEl.classList.add('colab-df-quickchart-complete');\n",
              "    }\n",
              "    (() => {\n",
              "      let quickchartButtonEl =\n",
              "        document.querySelector('#df-547c1c44-5f05-4a99-a8fa-a2be28a114e9 button');\n",
              "      quickchartButtonEl.style.display =\n",
              "        google.colab.kernel.accessAllowed ? 'block' : 'none';\n",
              "    })();\n",
              "  </script>\n",
              "</div>\n",
              "\n",
              "    </div>\n",
              "  </div>\n"
            ],
            "application/vnd.google.colaboratory.intrinsic+json": {
              "type": "dataframe",
              "summary": "{\n  \"name\": \"df\",\n  \"rows\": 2,\n  \"fields\": [\n    {\n      \"column\": \"text\",\n      \"properties\": {\n        \"dtype\": \"string\",\n        \"num_unique_values\": 2,\n        \"samples\": [\n          \"A decade of good website design\\n\\nThe web looks very different today than it did 10 years ago.\\n\\nBack in 1994, Yahoo had only just launched, most websites were text-based and Amazon, Google and eBay had yet to appear. But, says usability guru Dr Jakob Nielsen, some things have stayed constant in that decade, namely the principles of what makes a site easy to use. Dr Nielsen has looked back at a decade of work on usability and considered whether the 34 core guidelines drawn up back then are relevant to the web of today. \\\"Roughly 80% of the things we found 10 years ago are still an issue today,\\\" he said. \\\"Some have gone away because users have changed and 10% have changed because technology has changed.\\\"\\n\\nSome design crimes, such as splash screens that get between a user and the site they are trying to visit, and web designers indulging their artistic urges have almost disappeared, said Dr Nielsen.\\n\\n\\\"But there's great stability on usability concerns,\\\" he told the BBC News website. Dr Nielsen said the basic principles of usability, centring around ease of use and clear thinking about a site's total design, were as important as ever. \\\"It's necessary to be aware of these things as issues because they remain as such,\\\" he said. They are still important because the net has not changed as much as people thought it would. \\\"A lot of people thought that design and usability was only a temporary problem because broadband was taking off,\\\" he said. \\\"But there are a very small number of cases where usability issues go away because you have broadband.\\\"\\n\\nDr Nielsen said the success of sites such as Google, Amazon, eBay and Yahoo showed that close attention to design and user needs was important. \\\"Those four sites are extremely profitable and extremely successful,\\\" said Dr Nielsen, adding that they have largely defined commercial success on the net.\\n\\n\\\"All are based on user empowerment and make it easy for people to do things on the internet,\\\" he said. \\\"They are making simple but powerful tools available to the user. \\\"None of them have a fancy or glamorous look,\\\" he added, declaring himself surprised that these sites have not been more widely copied. In the future, Dr Nielsen believes that search engines will play an even bigger part in helping people get to grips with the huge amount of information online. \\\"They are becoming like the operating system to the internet,\\\" he said. But, he said, the fact that they are useful now does not meant that they could not do better. Currently, he said, search sites did not do a very good job of describing the information that they return in response to queries. Often people had to look at a website just to judge whether it was useful or not. Tools that watch the behaviour of people on websites to see what they actually find useful could also help refine results. Research by Dr Nielsen shows that people are getting more sophisticated in their use of search engines. The latest statistics on how many words people use on search engines shows that, on average, they use 2.2 terms. In 1994 only 1.3 words were used. \\\"I think it's amazing that we have seen a doubling in a 10-year period of those search terms,\\\" said Dr Nielsen.\\n\\nYou can hear more from Jakob Nielsen and web design on the BBC World Service programme, Go Digital\",\n          \"Plaid MP's cottage arson claim\\n\\nA Plaid Cymru MP believes UK security services were involved in some arson attacks blamed on Welsh extremists.\\n\\nIt is 25 years since the start of 12 years of fire-bombings, attributed to a shadowy group known as Meibion Glyndwr. Plaid Cymru's Elfyn Llwyd has suggested the security services could have been involved, with the intention of discrediting the nationalist vote. Ex-Welsh Office Minister Lord Roberts of Conwy denied security services were involved. In March this year, North Wales Police reopened the case, saying materials kept during their investigations would be examined to find whether it would yield DNA evidence.\\n\\nMeibion Glyndwr - which means \\\"sons of Glyndwr\\\" - began burning property in December 1979 in protest at homes in rural Wales being sold as holiday cottages to people from England. The group was linked to most of the 220 or so fire-bombing incidents stretching from the Llyn Peninsula to Pembrokeshire. The campaign continued until the early 1990s. Police were accused in some quarters of targeting anyone who was a nationalist. Although one man, Sion Aubrey Roberts, was convicted in 1993 of sending letter bombs in the post, the arson cases remain unsolved.\\n\\nAs a solicitor, Elfyn Llwyd represented Welsh singer Bryn F&#244;n when he was arrested on suspicion of being involved in the arson campaign. F&#244;n was released without charge . But now, as MP for Merionnydd Nant Conwy and Plaid Cymru's Parliamentary Leader, Mr Llwyd has argued that some of the terror attacks may have had the involvement of the security services and not Meibion Glyndwr. He believes that elements of the British security services may have carried out renegade actions in order to discredit Plaid Cymru and the nationalist vote ahead of elections. The claim is made in an interview for BBC Wales' Maniffesto programme to be shown on S4C on Sunday.\\n\\nMr Llwyd said that the sophistication of many of the devices used in the attacks compared to the crude nature of many others, suggests a degree of professionalism which could only have come from individuals who knew exactly what they were doing. He said: \\\"What I'm saying is that the role that they took wasn't the appropriate one, i.e. like an\\n\\nagent provocateur\\n\\nand perhaps interfering and creating a situation where it looked like it was the nationalists that were responsible.\\\" The programme also heard from Lord Roberts of Conwy, who was a Welsh Office minister at the time. He denied that the security services played any improper role. Mr Llwyd's theory has also been questioned by Plaid Cymru's former President, Dafydd Wigley. He accepted that the fires damaged Plaid Cymru's public image but believed that the security services had their hands full at the time with the IRA and animal rights activists.\\n\\n\\n - Maniffesto can be seen on S4C on Sunday, 12 December, at 1200 GMT.\"\n        ],\n        \"semantic_type\": \"\",\n        \"description\": \"\"\n      }\n    },\n    {\n      \"column\": \"labels\",\n      \"properties\": {\n        \"dtype\": \"string\",\n        \"num_unique_values\": 2,\n        \"samples\": [\n          \"tech\",\n          \"politics\"\n        ],\n        \"semantic_type\": \"\",\n        \"description\": \"\"\n      }\n    }\n  ]\n}"
            }
          },
          "metadata": {},
          "execution_count": 19
        }
      ]
    }
  ]
}